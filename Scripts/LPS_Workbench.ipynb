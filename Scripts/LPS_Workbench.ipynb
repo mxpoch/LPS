{
 "metadata": {
  "language_info": {
   "codemirror_mode": {
    "name": "ipython",
    "version": 3
   },
   "file_extension": ".py",
   "mimetype": "text/x-python",
   "name": "python",
   "nbconvert_exporter": "python",
   "pygments_lexer": "ipython3",
   "version": "3.9.4"
  },
  "orig_nbformat": 2,
  "kernelspec": {
   "name": "python394jvsc74a57bd0f96efbd20990c9b87154ff1e04974328ba5cd93cb6fdf3bf0ba6a60073362e50",
   "display_name": "Python 3.9.4 64-bit"
  },
  "metadata": {
   "interpreter": {
    "hash": "f96efbd20990c9b87154ff1e04974328ba5cd93cb6fdf3bf0ba6a60073362e50"
   }
  }
 },
 "nbformat": 4,
 "nbformat_minor": 2,
 "cells": [
  {
   "cell_type": "code",
   "execution_count": 32,
   "metadata": {},
   "outputs": [],
   "source": [
    "import pandas as pd \n",
    "import numpy as np\n",
    "import dask.dataframe as dd\n",
    "import dask\n",
    "import os"
   ]
  },
  {
   "cell_type": "code",
   "execution_count": 16,
   "metadata": {},
   "outputs": [
    {
     "output_type": "stream",
     "name": "stderr",
     "text": [
      "C:\\Users\\Owner\\AppData\\Roaming\\Python\\Python39\\site-packages\\decorator.py:231: DtypeWarning: Columns (12) have mixed types.Specify dtype option on import or set low_memory=False.\n",
      "  return caller(func, *(extras + args), **kw)\n",
      "Wall time: 24.8 s\n"
     ]
    }
   ],
   "source": [
    "%%time\n",
    "# opens relevant .tsv filings\n",
    "os.chdir(r'F:/LPS/2021_02_notes')\n",
    "\n",
    "sub = pd.read_csv('sub.tsv', sep='\\t', header=0)\n",
    "num = pd.read_csv('num.tsv', sep='\\t', header=0)\n",
    "pre = pd.read_csv('pre.tsv', sep='\\t', header=0)\n",
    "dim = pd.read_csv('dim.tsv', sep='\\t', header=0)\n",
    "txt = pd.read_csv('txt.tsv', sep='\\t', header=0)\n",
    "data_tags = pd.read_csv('tag.tsv', sep='\\t', header=0)"
   ]
  },
  {
   "cell_type": "code",
   "execution_count": 17,
   "metadata": {},
   "outputs": [
    {
     "output_type": "execute_result",
     "data": {
      "text/plain": [
       "array([nan, 'C', 'D'], dtype=object)"
      ]
     },
     "metadata": {},
     "execution_count": 17
    }
   ],
   "source": [
    "data_tags['crdr'].unique()"
   ]
  },
  {
   "cell_type": "code",
   "execution_count": 2,
   "metadata": {},
   "outputs": [],
   "source": [
    "# allows for long strings\n",
    "pd.options.display.max_colwidth = 1000\n",
    "pd.set_option('display.max_columns', None)"
   ]
  },
  {
   "cell_type": "code",
   "execution_count": 3,
   "metadata": {},
   "outputs": [],
   "source": [
    "# disables setting on copy error\n",
    "pd.options.mode.chained_assignment = None  # default='warn'"
   ]
  },
  {
   "cell_type": "code",
   "execution_count": null,
   "metadata": {},
   "outputs": [],
   "source": [
    "num"
   ]
  },
  {
   "cell_type": "code",
   "execution_count": null,
   "metadata": {},
   "outputs": [],
   "source": [
    "sub[sub['form'] == '10-K']"
   ]
  },
  {
   "cell_type": "code",
   "execution_count": 127,
   "metadata": {},
   "outputs": [
    {
     "output_type": "error",
     "ename": "NameError",
     "evalue": "name 'pre' is not defined",
     "traceback": [
      "\u001b[1;31m---------------------------------------------------------------------------\u001b[0m",
      "\u001b[1;31mNameError\u001b[0m                                 Traceback (most recent call last)",
      "\u001b[1;32m<ipython-input-127-1eae326b5974>\u001b[0m in \u001b[0;36m<module>\u001b[1;34m\u001b[0m\n\u001b[1;32m----> 1\u001b[1;33m \u001b[0mtest\u001b[0m \u001b[1;33m=\u001b[0m \u001b[0mCompanyFilings\u001b[0m\u001b[1;33m(\u001b[0m\u001b[1;34m'rxt'\u001b[0m\u001b[1;33m,\u001b[0m \u001b[0mnum\u001b[0m\u001b[1;33m,\u001b[0m \u001b[0mpre\u001b[0m\u001b[1;33m,\u001b[0m \u001b[0mdim\u001b[0m\u001b[1;33m,\u001b[0m \u001b[0msub\u001b[0m\u001b[1;33m,\u001b[0m \u001b[0mdata_tags\u001b[0m\u001b[1;33m)\u001b[0m\u001b[1;33m\u001b[0m\u001b[1;33m\u001b[0m\u001b[0m\n\u001b[0m\u001b[0;32m      2\u001b[0m \u001b[0mtest\u001b[0m\u001b[1;33m.\u001b[0m\u001b[0mget_filings\u001b[0m\u001b[1;33m(\u001b[0m\u001b[1;33m)\u001b[0m\u001b[1;33m\u001b[0m\u001b[1;33m\u001b[0m\u001b[0m\n",
      "\u001b[1;31mNameError\u001b[0m: name 'pre' is not defined"
     ]
    }
   ],
   "source": [
    "test = CompanyFilings('rxt', num, pre, dim, sub, data_tags)\n",
    "test.get_filings()"
   ]
  },
  {
   "cell_type": "code",
   "execution_count": null,
   "metadata": {},
   "outputs": [],
   "source": [
    "t2 = test.collect_num('0000008670-21-000007', 20201231)\n",
    "t2[t2['tag'] == 'EarningsPerShareBasic']"
   ]
  },
  {
   "cell_type": "code",
   "execution_count": null,
   "metadata": {},
   "outputs": [],
   "source": [
    "chk = test.collect_pre('0000008670-21-000007', 20201231, stmt='IS')\n",
    "chk"
   ]
  },
  {
   "cell_type": "code",
   "execution_count": null,
   "metadata": {
    "tags": []
   },
   "outputs": [],
   "source": [
    "tst = test.extract_statement(20201231, form_type='10-K', statement='CF')\n",
    "tst"
   ]
  },
  {
   "cell_type": "code",
   "execution_count": 35,
   "metadata": {},
   "outputs": [
    {
     "output_type": "execute_result",
     "data": {
      "text/plain": [
       "                      adsh    cik       name     sic countryba stprba  \\\n",
       "4     0001193125-09-152905  12927  BOEING CO    3721        US     WA   \n",
       "19    0001193125-09-210918  12927  BOEING CO    3721        US     WA   \n",
       "66    0001193125-10-024406  12927  BOEING CO    3721        US     WA   \n",
       "14    0001193125-10-088623  12927  BOEING CO    3721        US     WA   \n",
       "135   0001193125-10-168724  12927  BOEING CO    3721        US     WA   \n",
       "...                    ...    ...        ...     ...       ...    ...   \n",
       "1     0000012927-21-000011  12927  BOEING CO  3721.0        US     WA   \n",
       "924   0001193125-21-028946  12927  BOEING CO  3721.0        US     WA   \n",
       "3240  0000012927-21-000020  12927  BOEING CO  3721.0        US     WA   \n",
       "3315  0000012927-21-000025  12927  BOEING CO  3721.0        US     WA   \n",
       "4718  0001193125-21-089532  12927  BOEING CO  3721.0        US     WA   \n",
       "\n",
       "       cityba  zipba                   bas1 bas2          baph countryma  \\\n",
       "4     SEATTLE  98124  P O BOX 3707 MS 1F 31  NaN    2066552121        US   \n",
       "19    SEATTLE  98124  P O BOX 3707 MS 1F 31  NaN    2066552121        US   \n",
       "66    SEATTLE  98124  P O BOX 3707 MS 1F 31  NaN    2066552121        US   \n",
       "14    SEATTLE  98124  P O BOX 3707 MS 1F 31  NaN    2066552121        US   \n",
       "135   SEATTLE  98124  P O BOX 3707 MS 1F 31  NaN    2066552121        US   \n",
       "...       ...    ...                    ...  ...           ...       ...   \n",
       "1     SEATTLE  98124  P O BOX 3707 MS 1F 31  NaN  312-544-2000        US   \n",
       "924   SEATTLE  98124  P O BOX 3707 MS 1F 31  NaN  312-544-2000        US   \n",
       "3240  SEATTLE  98124  P O BOX 3707 MS 1F 31  NaN  312-544-2000        US   \n",
       "3315  SEATTLE  98124  P O BOX 3707 MS 1F 31  NaN  312-544-2000        US   \n",
       "4718  SEATTLE  98124  P O BOX 3707 MS 1F 31  NaN  312-544-2000        US   \n",
       "\n",
       "     stprma   cityma       zipma                 mas1 mas2 countryinc stprinc  \\\n",
       "4        IL  CHICAGO       60606  100 N RIVERSIDE PLZ  NaN         US      DE   \n",
       "19       IL  CHICAGO       60606  100 N RIVERSIDE PLZ  NaN         US      DE   \n",
       "66       IL  CHICAGO       60606  100 N RIVERSIDE PLZ  NaN         US      DE   \n",
       "14       IL  CHICAGO       60606  100 N RIVERSIDE PLZ  NaN         US      DE   \n",
       "135      IL  CHICAGO       60606  100 N RIVERSIDE PLZ  NaN         US      DE   \n",
       "...     ...      ...         ...                  ...  ...        ...     ...   \n",
       "1        IL  CHICAGO  60606-1596  100 N RIVERSIDE PLZ  NaN         US      DE   \n",
       "924      IL  CHICAGO  60606-1596  100 N RIVERSIDE PLZ  NaN         US      DE   \n",
       "3240     IL  CHICAGO  60606-1596  100 N RIVERSIDE PLZ  NaN         US      DE   \n",
       "3315     IL  CHICAGO  60606-1596  100 N RIVERSIDE PLZ  NaN         US      DE   \n",
       "4718     IL  CHICAGO  60606-1596  100 N RIVERSIDE PLZ  NaN         US      DE   \n",
       "\n",
       "              ein              former     changed    afs wksi     fye  form  \\\n",
       "4       910425694  BOEING AIRPLANE CO  19730725.0  1-LAF    1    1231  10-Q   \n",
       "19      910425694  BOEING AIRPLANE CO  19730725.0  1-LAF    0    1231  10-Q   \n",
       "66      910425694  BOEING AIRPLANE CO  19730725.0  1-LAF    1    1231  10-K   \n",
       "14      910425694  BOEING AIRPLANE CO  19730725.0  1-LAF    0    1231  10-Q   \n",
       "135   910425694.0  BOEING AIRPLANE CO  19730725.0  1-LAF    0    1231  10-Q   \n",
       "...           ...                 ...         ...    ...  ...     ...   ...   \n",
       "1       910425694  BOEING AIRPLANE CO  19730725.0  1-LAF    1  1231.0  10-K   \n",
       "924     910425694  BOEING AIRPLANE CO  19730725.0  1-LAF    0  1231.0   8-K   \n",
       "3240    910425694  BOEING AIRPLANE CO  19730725.0  1-LAF    0  1231.0   8-K   \n",
       "3315  910425694.0  BOEING AIRPLANE CO  19730725.0  1-LAF    0  1231.0   8-K   \n",
       "4718  910425694.0  BOEING AIRPLANE CO  19730725.0  1-LAF    0  1231.0   8-K   \n",
       "\n",
       "          period      fy   fp     filed               accepted prevrpt detail  \\\n",
       "4       20090630    2009   Q2  20090722  2009-07-22 12:33:00.0       0      0   \n",
       "19      20090930    2009   Q3  20091021  2009-10-21 12:42:00.0       0      0   \n",
       "66      20091231  2009.0   FY  20100208  2010-02-08 16:29:00.0       0      0   \n",
       "14      20100331    2010   Q1  20100421  2010-04-21 12:36:00.0       0      0   \n",
       "135     20100630    2010   Q2  20100728  2010-07-28 13:13:00.0       0      1   \n",
       "...          ...     ...  ...       ...                    ...     ...    ...   \n",
       "1     20201231.0  2020.0   FY  20210201  2021-02-01 14:20:00.0       0      1   \n",
       "924   20210131.0     NaN  NaN  20210204  2021-02-04 17:02:00.0       0      0   \n",
       "3240  20210228.0     NaN  NaN  20210217  2021-02-17 17:29:00.0       0      0   \n",
       "3315  20210228.0     NaN  NaN  20210315  2021-03-15 17:04:00.0       0      0   \n",
       "4718  20210331.0     NaN  NaN  20210322  2021-03-22 16:11:00.0       0      0   \n",
       "\n",
       "                 instance nciks aciks     pubfloatusd   floatdate floataxis  \\\n",
       "4         ba-20090630.xml     1   NaN   46799998976.0  20080630.0       NaN   \n",
       "19        ba-20090930.xml     1   NaN             NaN         NaN       NaN   \n",
       "66        ba-20091231.xml     1   NaN   29600000000.0  20090630.0       NaN   \n",
       "14        ba-20100331.xml     1   NaN             NaN         NaN       NaN   \n",
       "135       ba-20100630.xml     1   NaN             NaN         NaN       NaN   \n",
       "...                   ...   ...   ...             ...         ...       ...   \n",
       "1     ba-20201231_htm.xml     1   NaN  103500000000.0  20200630.0       NaN   \n",
       "924     d33530d8k_htm.xml     1   NaN             NaN         NaN       NaN   \n",
       "3240  ba-20210217_htm.xml     1   NaN             NaN         NaN       NaN   \n",
       "3315  ba-20210310_htm.xml     1   NaN             NaN         NaN       NaN   \n",
       "4718   d149318d8k_htm.xml     1   NaN             NaN         NaN       NaN   \n",
       "\n",
       "     floatmems  \n",
       "4          NaN  \n",
       "19         NaN  \n",
       "66         NaN  \n",
       "14         NaN  \n",
       "135        NaN  \n",
       "...        ...  \n",
       "1          NaN  \n",
       "924        NaN  \n",
       "3240       NaN  \n",
       "3315       NaN  \n",
       "4718       NaN  \n",
       "\n",
       "[80 rows x 40 columns]"
      ],
      "text/html": "<div>\n<style scoped>\n    .dataframe tbody tr th:only-of-type {\n        vertical-align: middle;\n    }\n\n    .dataframe tbody tr th {\n        vertical-align: top;\n    }\n\n    .dataframe thead th {\n        text-align: right;\n    }\n</style>\n<table border=\"1\" class=\"dataframe\">\n  <thead>\n    <tr style=\"text-align: right;\">\n      <th></th>\n      <th>adsh</th>\n      <th>cik</th>\n      <th>name</th>\n      <th>sic</th>\n      <th>countryba</th>\n      <th>stprba</th>\n      <th>cityba</th>\n      <th>zipba</th>\n      <th>bas1</th>\n      <th>bas2</th>\n      <th>baph</th>\n      <th>countryma</th>\n      <th>stprma</th>\n      <th>cityma</th>\n      <th>zipma</th>\n      <th>mas1</th>\n      <th>mas2</th>\n      <th>countryinc</th>\n      <th>stprinc</th>\n      <th>ein</th>\n      <th>former</th>\n      <th>changed</th>\n      <th>afs</th>\n      <th>wksi</th>\n      <th>fye</th>\n      <th>form</th>\n      <th>period</th>\n      <th>fy</th>\n      <th>fp</th>\n      <th>filed</th>\n      <th>accepted</th>\n      <th>prevrpt</th>\n      <th>detail</th>\n      <th>instance</th>\n      <th>nciks</th>\n      <th>aciks</th>\n      <th>pubfloatusd</th>\n      <th>floatdate</th>\n      <th>floataxis</th>\n      <th>floatmems</th>\n    </tr>\n  </thead>\n  <tbody>\n    <tr>\n      <th>4</th>\n      <td>0001193125-09-152905</td>\n      <td>12927</td>\n      <td>BOEING CO</td>\n      <td>3721</td>\n      <td>US</td>\n      <td>WA</td>\n      <td>SEATTLE</td>\n      <td>98124</td>\n      <td>P O BOX 3707 MS 1F 31</td>\n      <td>NaN</td>\n      <td>2066552121</td>\n      <td>US</td>\n      <td>IL</td>\n      <td>CHICAGO</td>\n      <td>60606</td>\n      <td>100 N RIVERSIDE PLZ</td>\n      <td>NaN</td>\n      <td>US</td>\n      <td>DE</td>\n      <td>910425694</td>\n      <td>BOEING AIRPLANE CO</td>\n      <td>19730725.0</td>\n      <td>1-LAF</td>\n      <td>1</td>\n      <td>1231</td>\n      <td>10-Q</td>\n      <td>20090630</td>\n      <td>2009</td>\n      <td>Q2</td>\n      <td>20090722</td>\n      <td>2009-07-22 12:33:00.0</td>\n      <td>0</td>\n      <td>0</td>\n      <td>ba-20090630.xml</td>\n      <td>1</td>\n      <td>NaN</td>\n      <td>46799998976.0</td>\n      <td>20080630.0</td>\n      <td>NaN</td>\n      <td>NaN</td>\n    </tr>\n    <tr>\n      <th>19</th>\n      <td>0001193125-09-210918</td>\n      <td>12927</td>\n      <td>BOEING CO</td>\n      <td>3721</td>\n      <td>US</td>\n      <td>WA</td>\n      <td>SEATTLE</td>\n      <td>98124</td>\n      <td>P O BOX 3707 MS 1F 31</td>\n      <td>NaN</td>\n      <td>2066552121</td>\n      <td>US</td>\n      <td>IL</td>\n      <td>CHICAGO</td>\n      <td>60606</td>\n      <td>100 N RIVERSIDE PLZ</td>\n      <td>NaN</td>\n      <td>US</td>\n      <td>DE</td>\n      <td>910425694</td>\n      <td>BOEING AIRPLANE CO</td>\n      <td>19730725.0</td>\n      <td>1-LAF</td>\n      <td>0</td>\n      <td>1231</td>\n      <td>10-Q</td>\n      <td>20090930</td>\n      <td>2009</td>\n      <td>Q3</td>\n      <td>20091021</td>\n      <td>2009-10-21 12:42:00.0</td>\n      <td>0</td>\n      <td>0</td>\n      <td>ba-20090930.xml</td>\n      <td>1</td>\n      <td>NaN</td>\n      <td>NaN</td>\n      <td>NaN</td>\n      <td>NaN</td>\n      <td>NaN</td>\n    </tr>\n    <tr>\n      <th>66</th>\n      <td>0001193125-10-024406</td>\n      <td>12927</td>\n      <td>BOEING CO</td>\n      <td>3721</td>\n      <td>US</td>\n      <td>WA</td>\n      <td>SEATTLE</td>\n      <td>98124</td>\n      <td>P O BOX 3707 MS 1F 31</td>\n      <td>NaN</td>\n      <td>2066552121</td>\n      <td>US</td>\n      <td>IL</td>\n      <td>CHICAGO</td>\n      <td>60606</td>\n      <td>100 N RIVERSIDE PLZ</td>\n      <td>NaN</td>\n      <td>US</td>\n      <td>DE</td>\n      <td>910425694</td>\n      <td>BOEING AIRPLANE CO</td>\n      <td>19730725.0</td>\n      <td>1-LAF</td>\n      <td>1</td>\n      <td>1231</td>\n      <td>10-K</td>\n      <td>20091231</td>\n      <td>2009.0</td>\n      <td>FY</td>\n      <td>20100208</td>\n      <td>2010-02-08 16:29:00.0</td>\n      <td>0</td>\n      <td>0</td>\n      <td>ba-20091231.xml</td>\n      <td>1</td>\n      <td>NaN</td>\n      <td>29600000000.0</td>\n      <td>20090630.0</td>\n      <td>NaN</td>\n      <td>NaN</td>\n    </tr>\n    <tr>\n      <th>14</th>\n      <td>0001193125-10-088623</td>\n      <td>12927</td>\n      <td>BOEING CO</td>\n      <td>3721</td>\n      <td>US</td>\n      <td>WA</td>\n      <td>SEATTLE</td>\n      <td>98124</td>\n      <td>P O BOX 3707 MS 1F 31</td>\n      <td>NaN</td>\n      <td>2066552121</td>\n      <td>US</td>\n      <td>IL</td>\n      <td>CHICAGO</td>\n      <td>60606</td>\n      <td>100 N RIVERSIDE PLZ</td>\n      <td>NaN</td>\n      <td>US</td>\n      <td>DE</td>\n      <td>910425694</td>\n      <td>BOEING AIRPLANE CO</td>\n      <td>19730725.0</td>\n      <td>1-LAF</td>\n      <td>0</td>\n      <td>1231</td>\n      <td>10-Q</td>\n      <td>20100331</td>\n      <td>2010</td>\n      <td>Q1</td>\n      <td>20100421</td>\n      <td>2010-04-21 12:36:00.0</td>\n      <td>0</td>\n      <td>0</td>\n      <td>ba-20100331.xml</td>\n      <td>1</td>\n      <td>NaN</td>\n      <td>NaN</td>\n      <td>NaN</td>\n      <td>NaN</td>\n      <td>NaN</td>\n    </tr>\n    <tr>\n      <th>135</th>\n      <td>0001193125-10-168724</td>\n      <td>12927</td>\n      <td>BOEING CO</td>\n      <td>3721</td>\n      <td>US</td>\n      <td>WA</td>\n      <td>SEATTLE</td>\n      <td>98124</td>\n      <td>P O BOX 3707 MS 1F 31</td>\n      <td>NaN</td>\n      <td>2066552121</td>\n      <td>US</td>\n      <td>IL</td>\n      <td>CHICAGO</td>\n      <td>60606</td>\n      <td>100 N RIVERSIDE PLZ</td>\n      <td>NaN</td>\n      <td>US</td>\n      <td>DE</td>\n      <td>910425694.0</td>\n      <td>BOEING AIRPLANE CO</td>\n      <td>19730725.0</td>\n      <td>1-LAF</td>\n      <td>0</td>\n      <td>1231</td>\n      <td>10-Q</td>\n      <td>20100630</td>\n      <td>2010</td>\n      <td>Q2</td>\n      <td>20100728</td>\n      <td>2010-07-28 13:13:00.0</td>\n      <td>0</td>\n      <td>1</td>\n      <td>ba-20100630.xml</td>\n      <td>1</td>\n      <td>NaN</td>\n      <td>NaN</td>\n      <td>NaN</td>\n      <td>NaN</td>\n      <td>NaN</td>\n    </tr>\n    <tr>\n      <th>...</th>\n      <td>...</td>\n      <td>...</td>\n      <td>...</td>\n      <td>...</td>\n      <td>...</td>\n      <td>...</td>\n      <td>...</td>\n      <td>...</td>\n      <td>...</td>\n      <td>...</td>\n      <td>...</td>\n      <td>...</td>\n      <td>...</td>\n      <td>...</td>\n      <td>...</td>\n      <td>...</td>\n      <td>...</td>\n      <td>...</td>\n      <td>...</td>\n      <td>...</td>\n      <td>...</td>\n      <td>...</td>\n      <td>...</td>\n      <td>...</td>\n      <td>...</td>\n      <td>...</td>\n      <td>...</td>\n      <td>...</td>\n      <td>...</td>\n      <td>...</td>\n      <td>...</td>\n      <td>...</td>\n      <td>...</td>\n      <td>...</td>\n      <td>...</td>\n      <td>...</td>\n      <td>...</td>\n      <td>...</td>\n      <td>...</td>\n      <td>...</td>\n    </tr>\n    <tr>\n      <th>1</th>\n      <td>0000012927-21-000011</td>\n      <td>12927</td>\n      <td>BOEING CO</td>\n      <td>3721.0</td>\n      <td>US</td>\n      <td>WA</td>\n      <td>SEATTLE</td>\n      <td>98124</td>\n      <td>P O BOX 3707 MS 1F 31</td>\n      <td>NaN</td>\n      <td>312-544-2000</td>\n      <td>US</td>\n      <td>IL</td>\n      <td>CHICAGO</td>\n      <td>60606-1596</td>\n      <td>100 N RIVERSIDE PLZ</td>\n      <td>NaN</td>\n      <td>US</td>\n      <td>DE</td>\n      <td>910425694</td>\n      <td>BOEING AIRPLANE CO</td>\n      <td>19730725.0</td>\n      <td>1-LAF</td>\n      <td>1</td>\n      <td>1231.0</td>\n      <td>10-K</td>\n      <td>20201231.0</td>\n      <td>2020.0</td>\n      <td>FY</td>\n      <td>20210201</td>\n      <td>2021-02-01 14:20:00.0</td>\n      <td>0</td>\n      <td>1</td>\n      <td>ba-20201231_htm.xml</td>\n      <td>1</td>\n      <td>NaN</td>\n      <td>103500000000.0</td>\n      <td>20200630.0</td>\n      <td>NaN</td>\n      <td>NaN</td>\n    </tr>\n    <tr>\n      <th>924</th>\n      <td>0001193125-21-028946</td>\n      <td>12927</td>\n      <td>BOEING CO</td>\n      <td>3721.0</td>\n      <td>US</td>\n      <td>WA</td>\n      <td>SEATTLE</td>\n      <td>98124</td>\n      <td>P O BOX 3707 MS 1F 31</td>\n      <td>NaN</td>\n      <td>312-544-2000</td>\n      <td>US</td>\n      <td>IL</td>\n      <td>CHICAGO</td>\n      <td>60606-1596</td>\n      <td>100 N RIVERSIDE PLZ</td>\n      <td>NaN</td>\n      <td>US</td>\n      <td>DE</td>\n      <td>910425694</td>\n      <td>BOEING AIRPLANE CO</td>\n      <td>19730725.0</td>\n      <td>1-LAF</td>\n      <td>0</td>\n      <td>1231.0</td>\n      <td>8-K</td>\n      <td>20210131.0</td>\n      <td>NaN</td>\n      <td>NaN</td>\n      <td>20210204</td>\n      <td>2021-02-04 17:02:00.0</td>\n      <td>0</td>\n      <td>0</td>\n      <td>d33530d8k_htm.xml</td>\n      <td>1</td>\n      <td>NaN</td>\n      <td>NaN</td>\n      <td>NaN</td>\n      <td>NaN</td>\n      <td>NaN</td>\n    </tr>\n    <tr>\n      <th>3240</th>\n      <td>0000012927-21-000020</td>\n      <td>12927</td>\n      <td>BOEING CO</td>\n      <td>3721.0</td>\n      <td>US</td>\n      <td>WA</td>\n      <td>SEATTLE</td>\n      <td>98124</td>\n      <td>P O BOX 3707 MS 1F 31</td>\n      <td>NaN</td>\n      <td>312-544-2000</td>\n      <td>US</td>\n      <td>IL</td>\n      <td>CHICAGO</td>\n      <td>60606-1596</td>\n      <td>100 N RIVERSIDE PLZ</td>\n      <td>NaN</td>\n      <td>US</td>\n      <td>DE</td>\n      <td>910425694</td>\n      <td>BOEING AIRPLANE CO</td>\n      <td>19730725.0</td>\n      <td>1-LAF</td>\n      <td>0</td>\n      <td>1231.0</td>\n      <td>8-K</td>\n      <td>20210228.0</td>\n      <td>NaN</td>\n      <td>NaN</td>\n      <td>20210217</td>\n      <td>2021-02-17 17:29:00.0</td>\n      <td>0</td>\n      <td>0</td>\n      <td>ba-20210217_htm.xml</td>\n      <td>1</td>\n      <td>NaN</td>\n      <td>NaN</td>\n      <td>NaN</td>\n      <td>NaN</td>\n      <td>NaN</td>\n    </tr>\n    <tr>\n      <th>3315</th>\n      <td>0000012927-21-000025</td>\n      <td>12927</td>\n      <td>BOEING CO</td>\n      <td>3721.0</td>\n      <td>US</td>\n      <td>WA</td>\n      <td>SEATTLE</td>\n      <td>98124</td>\n      <td>P O BOX 3707 MS 1F 31</td>\n      <td>NaN</td>\n      <td>312-544-2000</td>\n      <td>US</td>\n      <td>IL</td>\n      <td>CHICAGO</td>\n      <td>60606-1596</td>\n      <td>100 N RIVERSIDE PLZ</td>\n      <td>NaN</td>\n      <td>US</td>\n      <td>DE</td>\n      <td>910425694.0</td>\n      <td>BOEING AIRPLANE CO</td>\n      <td>19730725.0</td>\n      <td>1-LAF</td>\n      <td>0</td>\n      <td>1231.0</td>\n      <td>8-K</td>\n      <td>20210228.0</td>\n      <td>NaN</td>\n      <td>NaN</td>\n      <td>20210315</td>\n      <td>2021-03-15 17:04:00.0</td>\n      <td>0</td>\n      <td>0</td>\n      <td>ba-20210310_htm.xml</td>\n      <td>1</td>\n      <td>NaN</td>\n      <td>NaN</td>\n      <td>NaN</td>\n      <td>NaN</td>\n      <td>NaN</td>\n    </tr>\n    <tr>\n      <th>4718</th>\n      <td>0001193125-21-089532</td>\n      <td>12927</td>\n      <td>BOEING CO</td>\n      <td>3721.0</td>\n      <td>US</td>\n      <td>WA</td>\n      <td>SEATTLE</td>\n      <td>98124</td>\n      <td>P O BOX 3707 MS 1F 31</td>\n      <td>NaN</td>\n      <td>312-544-2000</td>\n      <td>US</td>\n      <td>IL</td>\n      <td>CHICAGO</td>\n      <td>60606-1596</td>\n      <td>100 N RIVERSIDE PLZ</td>\n      <td>NaN</td>\n      <td>US</td>\n      <td>DE</td>\n      <td>910425694.0</td>\n      <td>BOEING AIRPLANE CO</td>\n      <td>19730725.0</td>\n      <td>1-LAF</td>\n      <td>0</td>\n      <td>1231.0</td>\n      <td>8-K</td>\n      <td>20210331.0</td>\n      <td>NaN</td>\n      <td>NaN</td>\n      <td>20210322</td>\n      <td>2021-03-22 16:11:00.0</td>\n      <td>0</td>\n      <td>0</td>\n      <td>d149318d8k_htm.xml</td>\n      <td>1</td>\n      <td>NaN</td>\n      <td>NaN</td>\n      <td>NaN</td>\n      <td>NaN</td>\n      <td>NaN</td>\n    </tr>\n  </tbody>\n</table>\n<p>80 rows × 40 columns</p>\n</div>"
     },
     "metadata": {},
     "execution_count": 35
    }
   ],
   "source": [
    "tt.sub"
   ]
  },
  {
   "cell_type": "code",
   "execution_count": 111,
   "metadata": {},
   "outputs": [
    {
     "output_type": "execute_result",
     "data": {
      "text/plain": [
       "                   adsh    cik       name   sic countryba stprba   cityba  \\\n",
       "4  0001193125-09-152905  12927  BOEING CO  3721        US     WA  SEATTLE   \n",
       "\n",
       "   zipba                   bas1 bas2        baph countryma stprma   cityma  \\\n",
       "4  98124  P O BOX 3707 MS 1F 31  NaN  2066552121        US     IL  CHICAGO   \n",
       "\n",
       "   zipma                 mas1 mas2 countryinc stprinc        ein  \\\n",
       "4  60606  100 N RIVERSIDE PLZ  NaN         US      DE  910425694   \n",
       "\n",
       "               former     changed    afs wksi   fye  form    period    fy  fp  \\\n",
       "4  BOEING AIRPLANE CO  19730725.0  1-LAF    1  1231  10-Q  20090630  2009  Q2   \n",
       "\n",
       "      filed               accepted prevrpt detail         instance nciks  \\\n",
       "4  20090722  2009-07-22 12:33:00.0       0      0  ba-20090630.xml     1   \n",
       "\n",
       "  aciks    pubfloatusd   floatdate floataxis floatmems  \n",
       "4   NaN  46799998976.0  20080630.0       NaN       NaN  "
      ],
      "text/html": "<div>\n<style scoped>\n    .dataframe tbody tr th:only-of-type {\n        vertical-align: middle;\n    }\n\n    .dataframe tbody tr th {\n        vertical-align: top;\n    }\n\n    .dataframe thead th {\n        text-align: right;\n    }\n</style>\n<table border=\"1\" class=\"dataframe\">\n  <thead>\n    <tr style=\"text-align: right;\">\n      <th></th>\n      <th>adsh</th>\n      <th>cik</th>\n      <th>name</th>\n      <th>sic</th>\n      <th>countryba</th>\n      <th>stprba</th>\n      <th>cityba</th>\n      <th>zipba</th>\n      <th>bas1</th>\n      <th>bas2</th>\n      <th>baph</th>\n      <th>countryma</th>\n      <th>stprma</th>\n      <th>cityma</th>\n      <th>zipma</th>\n      <th>mas1</th>\n      <th>mas2</th>\n      <th>countryinc</th>\n      <th>stprinc</th>\n      <th>ein</th>\n      <th>former</th>\n      <th>changed</th>\n      <th>afs</th>\n      <th>wksi</th>\n      <th>fye</th>\n      <th>form</th>\n      <th>period</th>\n      <th>fy</th>\n      <th>fp</th>\n      <th>filed</th>\n      <th>accepted</th>\n      <th>prevrpt</th>\n      <th>detail</th>\n      <th>instance</th>\n      <th>nciks</th>\n      <th>aciks</th>\n      <th>pubfloatusd</th>\n      <th>floatdate</th>\n      <th>floataxis</th>\n      <th>floatmems</th>\n    </tr>\n  </thead>\n  <tbody>\n    <tr>\n      <th>4</th>\n      <td>0001193125-09-152905</td>\n      <td>12927</td>\n      <td>BOEING CO</td>\n      <td>3721</td>\n      <td>US</td>\n      <td>WA</td>\n      <td>SEATTLE</td>\n      <td>98124</td>\n      <td>P O BOX 3707 MS 1F 31</td>\n      <td>NaN</td>\n      <td>2066552121</td>\n      <td>US</td>\n      <td>IL</td>\n      <td>CHICAGO</td>\n      <td>60606</td>\n      <td>100 N RIVERSIDE PLZ</td>\n      <td>NaN</td>\n      <td>US</td>\n      <td>DE</td>\n      <td>910425694</td>\n      <td>BOEING AIRPLANE CO</td>\n      <td>19730725.0</td>\n      <td>1-LAF</td>\n      <td>1</td>\n      <td>1231</td>\n      <td>10-Q</td>\n      <td>20090630</td>\n      <td>2009</td>\n      <td>Q2</td>\n      <td>20090722</td>\n      <td>2009-07-22 12:33:00.0</td>\n      <td>0</td>\n      <td>0</td>\n      <td>ba-20090630.xml</td>\n      <td>1</td>\n      <td>NaN</td>\n      <td>46799998976.0</td>\n      <td>20080630.0</td>\n      <td>NaN</td>\n      <td>NaN</td>\n    </tr>\n  </tbody>\n</table>\n</div>"
     },
     "metadata": {},
     "execution_count": 111
    }
   ],
   "source": [
    "tt.sub[tt.sub['adsh'] == '0001193125-09-152905']"
   ]
  },
  {
   "cell_type": "code",
   "execution_count": 31,
   "metadata": {},
   "outputs": [
    {
     "output_type": "stream",
     "name": "stderr",
     "text": [
      "C:\\Users\\Owner\\AppData\\Local\\Programs\\Python\\Python39\\lib\\site-packages\\dask\\core.py:121: DtypeWarning: Columns (35,38) have mixed types.Specify dtype option on import or set low_memory=False.\n  return func(*(_execute_task(a, cache) for a in args))\n"
     ]
    },
    {
     "output_type": "execute_result",
     "data": {
      "text/plain": [
       "342722"
      ]
     },
     "metadata": {},
     "execution_count": 31
    }
   ],
   "source": [
    "# total number of unique CIKs \n",
    "load = dd.read_csv('F:\\LPS\\SEC_DB\\*\\sub.tsv', sep='\\t', sample=2500000)\n",
    "cik = load.cik.compute()\n",
    "len(cik)"
   ]
  },
  {
   "cell_type": "code",
   "execution_count": 83,
   "metadata": {},
   "outputs": [
    {
     "output_type": "stream",
     "name": "stdout",
     "text": [
      "Wall time: 2.74 s\n"
     ]
    }
   ],
   "source": [
    "%%time\n",
    "tt = CompanyFilings(cik=12927)"
   ]
  },
  {
   "cell_type": "code",
   "execution_count": 21,
   "metadata": {},
   "outputs": [
    {
     "output_type": "stream",
     "name": "stderr",
     "text": [
      "C:\\Users\\Owner\\AppData\\Local\\Programs\\Python\\Python39\\lib\\site-packages\\dask\\core.py:121: DtypeWarning: Columns (12) have mixed types.Specify dtype option on import or set low_memory=False.\n",
      "  return func(*(_execute_task(a, cache) for a in args))\n",
      "Wall time: 951 ms\n"
     ]
    },
    {
     "output_type": "execute_result",
     "data": {
      "text/plain": [
       "                    adsh  \\\n",
       "46  0001193125-10-024406   \n",
       "9   0001193125-10-024406   \n",
       "12  0001193125-10-024406   \n",
       "31  0001193125-10-024406   \n",
       "11  0001193125-10-024406   \n",
       "1   0001193125-10-024406   \n",
       "43  0001193125-10-024406   \n",
       "15  0001193125-10-024406   \n",
       "45  0001193125-10-024406   \n",
       "8   0001193125-10-024406   \n",
       "44  0001193125-10-024406   \n",
       "29  0001193125-10-024406   \n",
       "19  0001193125-10-024406   \n",
       "20  0001193125-10-024406   \n",
       "16  0001193125-10-024406   \n",
       "24  0001193125-10-024406   \n",
       "18  0001193125-10-024406   \n",
       "26  0001193125-10-024406   \n",
       "7   0001193125-10-024406   \n",
       "0   0001193125-10-024406   \n",
       "4   0001193125-10-024406   \n",
       "42  0001193125-10-024406   \n",
       "2   0001193125-10-024406   \n",
       "14  0001193125-10-024406   \n",
       "22  0001193125-10-024406   \n",
       "28  0001193125-10-024406   \n",
       "17  0001193125-10-024406   \n",
       "3   0001193125-10-024406   \n",
       "27  0001193125-10-024406   \n",
       "23  0001193125-10-024406   \n",
       "13  0001193125-10-024406   \n",
       "6   0001193125-10-024406   \n",
       "41  0001193125-10-024406   \n",
       "30  0001193125-10-024406   \n",
       "5   0001193125-10-024406   \n",
       "10  0001193125-10-024406   \n",
       "32  0001193125-10-024406   \n",
       "25  0001193125-10-024406   \n",
       "33  0001193125-10-024406   \n",
       "21  0001193125-10-024406   \n",
       "\n",
       "                                                            plabel  \\\n",
       "46                          Other assets, accumulated amortization   \n",
       "9                                        Cash and cash equivalents   \n",
       "12                                           Common shares, issued   \n",
       "31                                          Short-term investments   \n",
       "11                                        Common shares, par value   \n",
       "1                                         Accounts receivable, net   \n",
       "43                      Current portion of customer financing, net   \n",
       "15                                           Deferred income taxes   \n",
       "45              Inventories, net of advances and progress billings   \n",
       "8                                             Total current assets   \n",
       "44                                         Customer financing, net   \n",
       "29                              Property, plant and equipment, net   \n",
       "19                                                        Goodwill   \n",
       "20                                 Other acquired intangibles, net   \n",
       "16                                           Deferred income taxes   \n",
       "24                                                     Investments   \n",
       "18                                        Pension plan assets, net   \n",
       "26  Other assets, net of accumulated amortization of $492 and $400   \n",
       "7                                                     Total assets   \n",
       "0                                                 Accounts payable   \n",
       "4                                        Other accrued liabilities   \n",
       "42                Advances and billings in excess of related costs   \n",
       "2                                             Income taxes payable   \n",
       "14           Short-term debt and current portion of long-term debt   \n",
       "22                                       Total current liabilities   \n",
       "28                                     Accrued retiree health care   \n",
       "17                             Accrued pension plan liability, net   \n",
       "3                                 Non-current income taxes payable   \n",
       "27                                     Other long-term liabilities   \n",
       "23                                                  Long-term debt   \n",
       "13    Common shares issued, par value $5.00 - 1,012,261,159 shares   \n",
       "6                                       Additional paid-in capital   \n",
       "41                                        Treasury shares, at cost   \n",
       "30                                               Retained earnings   \n",
       "5                             Accumulated other comprehensive loss   \n",
       "10                                         ShareValue Trust shares   \n",
       "32                               Total Boeing shareholders' equity   \n",
       "25                                         Noncontrolling interest   \n",
       "33                                      Total shareholders' equity   \n",
       "21                      Total liabilities and shareholders' equity   \n",
       "\n",
       "           value  \\\n",
       "46  4.920000e+08   \n",
       "9   9.215000e+09   \n",
       "12  1.012261e+09   \n",
       "31  2.008000e+09   \n",
       "11  5.000000e+00   \n",
       "1   5.785000e+09   \n",
       "43  3.680000e+08   \n",
       "15  9.660000e+08   \n",
       "45  1.693300e+10   \n",
       "8   3.527500e+10   \n",
       "44  5.466000e+09   \n",
       "29  8.784000e+09   \n",
       "19  4.319000e+09   \n",
       "20  2.877000e+09   \n",
       "16  3.062000e+09   \n",
       "24  1.030000e+09   \n",
       "18  1.600000e+07   \n",
       "26  1.224000e+09   \n",
       "7   6.205300e+10   \n",
       "0   7.096000e+09   \n",
       "4   1.282200e+10   \n",
       "42  1.207600e+10   \n",
       "2   1.820000e+08   \n",
       "14  7.070000e+08   \n",
       "22  3.288300e+10   \n",
       "28  7.049000e+09   \n",
       "17  6.315000e+09   \n",
       "3   8.270000e+08   \n",
       "27  5.370000e+08   \n",
       "23  1.221700e+10   \n",
       "13  5.061000e+09   \n",
       "6   3.724000e+09   \n",
       "41  1.591100e+10   \n",
       "30  2.274600e+10   \n",
       "5  -1.187700e+10   \n",
       "10  1.615000e+09   \n",
       "32  2.128000e+09   \n",
       "25  9.700000e+07   \n",
       "33  2.225000e+09   \n",
       "21  6.205300e+10   \n",
       "\n",
       "                                                                       tag  \\\n",
       "46                            OtherAssetsNoncurrentAccumulatedAmortization   \n",
       "9                                    CashAndCashEquivalentsAtCarryingValue   \n",
       "12                                                 CommonStockSharesIssued   \n",
       "31                                                    ShortTermInvestments   \n",
       "11                                     CommonStockParOrStatedValuePerShare   \n",
       "1                                             AccountsReceivableNetCurrent   \n",
       "43                                                CustomerFinancingCurrent   \n",
       "15                                             DeferredTaxAssetsNetCurrent   \n",
       "45                       InventoryNetOfCustomerAdvancesAndProgressBillings   \n",
       "8                                                            AssetsCurrent   \n",
       "44                                             CustomerFinancingNoncurrent   \n",
       "29                                            PropertyPlantAndEquipmentNet   \n",
       "19                                                                Goodwill   \n",
       "20                                    IntangibleAssetsNetExcludingGoodwill   \n",
       "16                                          DeferredTaxAssetsNetNoncurrent   \n",
       "24                                                     LongTermInvestments   \n",
       "18                       DefinedBenefitPlanAssetsForPlanBenefitsNoncurrent   \n",
       "26                                                   OtherAssetsNoncurrent   \n",
       "7                                                                   Assets   \n",
       "0                                                   AccountsPayableCurrent   \n",
       "4                                                AccruedLiabilitiesCurrent   \n",
       "42                               CustomerAdvancesAndBillingsInExcessOfCost   \n",
       "2                                                AccruedIncomeTaxesCurrent   \n",
       "14                                                             DebtCurrent   \n",
       "22                                                      LiabilitiesCurrent   \n",
       "28              OtherPostretirementDefinedBenefitPlanLiabilitiesNoncurrent   \n",
       "17                          DefinedBenefitPensionPlanLiabilitiesNoncurrent   \n",
       "3                                             AccruedIncomeTaxesNoncurrent   \n",
       "27                                              OtherLiabilitiesNoncurrent   \n",
       "23                                  LongTermDebtAndCapitalLeaseObligations   \n",
       "13                                                        CommonStockValue   \n",
       "6                                                  AdditionalPaidInCapital   \n",
       "41                                                      TreasuryStockValue   \n",
       "30                                      RetainedEarningsAccumulatedDeficit   \n",
       "5                          AccumulatedOtherComprehensiveIncomeLossNetOfTax   \n",
       "10                                  CommonStockIssuedEmployeeTrustDeferred   \n",
       "32                                                      StockholdersEquity   \n",
       "25                                                        MinorityInterest   \n",
       "33  StockholdersEquityIncludingPortionAttributableToNoncontrollingInterest   \n",
       "21                                        LiabilitiesAndStockholdersEquity   \n",
       "\n",
       "                 version     ddate  qtrs     uom        dimh  iprx  line  rank  \n",
       "46  0001193125-10-024406  20091231     0     USD  0x00000000     0     3    -1  \n",
       "9           us-gaap/2009  20091231     0     USD  0x00000000     0     4    -1  \n",
       "12          us-gaap/2009  20091231     0  shares  0x00000000     0     4    -1  \n",
       "31          us-gaap/2009  20091231     0     USD  0x00000000     0     5    -1  \n",
       "11          us-gaap/2009  20091231     0     USD  0x00000000     0     5    -1  \n",
       "1           us-gaap/2009  20091231     0     USD  0x00000000     0     6    -1  \n",
       "43  0001193125-10-024406  20091231     0     USD  0x00000000     0     7    -1  \n",
       "15          us-gaap/2009  20091231     0     USD  0x00000000     0     8    -1  \n",
       "45  0001193125-10-024406  20091231     0     USD  0x00000000     0     9    -1  \n",
       "8           us-gaap/2009  20091231     0     USD  0x00000000     0    10    -1  \n",
       "44  0001193125-10-024406  20091231     0     USD  0x00000000     0    11    -1  \n",
       "29          us-gaap/2009  20091231     0     USD  0x00000000     0    12    -1  \n",
       "19          us-gaap/2009  20091231     0     USD  0x00000000     0    13    -1  \n",
       "20          us-gaap/2009  20091231     0     USD  0x00000000     0    14    -1  \n",
       "16          us-gaap/2009  20091231     0     USD  0x00000000     0    15    -1  \n",
       "24          us-gaap/2009  20091231     0     USD  0x00000000     0    16    -1  \n",
       "18          us-gaap/2009  20091231     0     USD  0x00000000     0    17    -1  \n",
       "26          us-gaap/2009  20091231     0     USD  0x00000000     0    18    -1  \n",
       "7           us-gaap/2009  20091231     0     USD  0x00000000     0    19    -1  \n",
       "0           us-gaap/2009  20091231     0     USD  0x00000000     0    21    -1  \n",
       "4           us-gaap/2009  20091231     0     USD  0x00000000     0    22    -1  \n",
       "42  0001193125-10-024406  20091231     0     USD  0x00000000     0    23    -1  \n",
       "2           us-gaap/2009  20091231     0     USD  0x00000000     0    24    -1  \n",
       "14          us-gaap/2009  20091231     0     USD  0x00000000     0    25    -1  \n",
       "22          us-gaap/2009  20091231     0     USD  0x00000000     0    26    -1  \n",
       "28          us-gaap/2009  20091231     0     USD  0x00000000     0    27    -1  \n",
       "17          us-gaap/2009  20091231     0     USD  0x00000000     0    28    -1  \n",
       "3           us-gaap/2009  20091231     0     USD  0x00000000     0    29    -1  \n",
       "27          us-gaap/2009  20091231     0     USD  0x00000000     0    30    -1  \n",
       "23          us-gaap/2009  20091231     0     USD  0x00000000     0    31    -1  \n",
       "13          us-gaap/2009  20091231     0     USD  0x00000000     0    33    -1  \n",
       "6           us-gaap/2009  20091231     0     USD  0x00000000     0    34    -1  \n",
       "41          us-gaap/2009  20091231     0     USD  0x00000000     0    35    -1  \n",
       "30          us-gaap/2009  20091231     0     USD  0x00000000     0    36    -1  \n",
       "5           us-gaap/2009  20091231     0     USD  0x00000000     0    37    -1  \n",
       "10          us-gaap/2009  20091231     0     USD  0x00000000     0    38    -1  \n",
       "32          us-gaap/2009  20091231     0     USD  0x00000000     0    39    -1  \n",
       "25          us-gaap/2009  20091231     0     USD  0x00000000     0    40    -1  \n",
       "33          us-gaap/2009  20091231     0     USD  0x00000000     0    41    -1  \n",
       "21          us-gaap/2009  20091231     0     USD  0x00000000     0    42    -1  "
      ],
      "text/html": "<div>\n<style scoped>\n    .dataframe tbody tr th:only-of-type {\n        vertical-align: middle;\n    }\n\n    .dataframe tbody tr th {\n        vertical-align: top;\n    }\n\n    .dataframe thead th {\n        text-align: right;\n    }\n</style>\n<table border=\"1\" class=\"dataframe\">\n  <thead>\n    <tr style=\"text-align: right;\">\n      <th></th>\n      <th>adsh</th>\n      <th>plabel</th>\n      <th>value</th>\n      <th>tag</th>\n      <th>version</th>\n      <th>ddate</th>\n      <th>qtrs</th>\n      <th>uom</th>\n      <th>dimh</th>\n      <th>iprx</th>\n      <th>line</th>\n      <th>rank</th>\n    </tr>\n  </thead>\n  <tbody>\n    <tr>\n      <th>46</th>\n      <td>0001193125-10-024406</td>\n      <td>Other assets, accumulated amortization</td>\n      <td>4.920000e+08</td>\n      <td>OtherAssetsNoncurrentAccumulatedAmortization</td>\n      <td>0001193125-10-024406</td>\n      <td>20091231</td>\n      <td>0</td>\n      <td>USD</td>\n      <td>0x00000000</td>\n      <td>0</td>\n      <td>3</td>\n      <td>-1</td>\n    </tr>\n    <tr>\n      <th>9</th>\n      <td>0001193125-10-024406</td>\n      <td>Cash and cash equivalents</td>\n      <td>9.215000e+09</td>\n      <td>CashAndCashEquivalentsAtCarryingValue</td>\n      <td>us-gaap/2009</td>\n      <td>20091231</td>\n      <td>0</td>\n      <td>USD</td>\n      <td>0x00000000</td>\n      <td>0</td>\n      <td>4</td>\n      <td>-1</td>\n    </tr>\n    <tr>\n      <th>12</th>\n      <td>0001193125-10-024406</td>\n      <td>Common shares, issued</td>\n      <td>1.012261e+09</td>\n      <td>CommonStockSharesIssued</td>\n      <td>us-gaap/2009</td>\n      <td>20091231</td>\n      <td>0</td>\n      <td>shares</td>\n      <td>0x00000000</td>\n      <td>0</td>\n      <td>4</td>\n      <td>-1</td>\n    </tr>\n    <tr>\n      <th>31</th>\n      <td>0001193125-10-024406</td>\n      <td>Short-term investments</td>\n      <td>2.008000e+09</td>\n      <td>ShortTermInvestments</td>\n      <td>us-gaap/2009</td>\n      <td>20091231</td>\n      <td>0</td>\n      <td>USD</td>\n      <td>0x00000000</td>\n      <td>0</td>\n      <td>5</td>\n      <td>-1</td>\n    </tr>\n    <tr>\n      <th>11</th>\n      <td>0001193125-10-024406</td>\n      <td>Common shares, par value</td>\n      <td>5.000000e+00</td>\n      <td>CommonStockParOrStatedValuePerShare</td>\n      <td>us-gaap/2009</td>\n      <td>20091231</td>\n      <td>0</td>\n      <td>USD</td>\n      <td>0x00000000</td>\n      <td>0</td>\n      <td>5</td>\n      <td>-1</td>\n    </tr>\n    <tr>\n      <th>1</th>\n      <td>0001193125-10-024406</td>\n      <td>Accounts receivable, net</td>\n      <td>5.785000e+09</td>\n      <td>AccountsReceivableNetCurrent</td>\n      <td>us-gaap/2009</td>\n      <td>20091231</td>\n      <td>0</td>\n      <td>USD</td>\n      <td>0x00000000</td>\n      <td>0</td>\n      <td>6</td>\n      <td>-1</td>\n    </tr>\n    <tr>\n      <th>43</th>\n      <td>0001193125-10-024406</td>\n      <td>Current portion of customer financing, net</td>\n      <td>3.680000e+08</td>\n      <td>CustomerFinancingCurrent</td>\n      <td>0001193125-10-024406</td>\n      <td>20091231</td>\n      <td>0</td>\n      <td>USD</td>\n      <td>0x00000000</td>\n      <td>0</td>\n      <td>7</td>\n      <td>-1</td>\n    </tr>\n    <tr>\n      <th>15</th>\n      <td>0001193125-10-024406</td>\n      <td>Deferred income taxes</td>\n      <td>9.660000e+08</td>\n      <td>DeferredTaxAssetsNetCurrent</td>\n      <td>us-gaap/2009</td>\n      <td>20091231</td>\n      <td>0</td>\n      <td>USD</td>\n      <td>0x00000000</td>\n      <td>0</td>\n      <td>8</td>\n      <td>-1</td>\n    </tr>\n    <tr>\n      <th>45</th>\n      <td>0001193125-10-024406</td>\n      <td>Inventories, net of advances and progress billings</td>\n      <td>1.693300e+10</td>\n      <td>InventoryNetOfCustomerAdvancesAndProgressBillings</td>\n      <td>0001193125-10-024406</td>\n      <td>20091231</td>\n      <td>0</td>\n      <td>USD</td>\n      <td>0x00000000</td>\n      <td>0</td>\n      <td>9</td>\n      <td>-1</td>\n    </tr>\n    <tr>\n      <th>8</th>\n      <td>0001193125-10-024406</td>\n      <td>Total current assets</td>\n      <td>3.527500e+10</td>\n      <td>AssetsCurrent</td>\n      <td>us-gaap/2009</td>\n      <td>20091231</td>\n      <td>0</td>\n      <td>USD</td>\n      <td>0x00000000</td>\n      <td>0</td>\n      <td>10</td>\n      <td>-1</td>\n    </tr>\n    <tr>\n      <th>44</th>\n      <td>0001193125-10-024406</td>\n      <td>Customer financing, net</td>\n      <td>5.466000e+09</td>\n      <td>CustomerFinancingNoncurrent</td>\n      <td>0001193125-10-024406</td>\n      <td>20091231</td>\n      <td>0</td>\n      <td>USD</td>\n      <td>0x00000000</td>\n      <td>0</td>\n      <td>11</td>\n      <td>-1</td>\n    </tr>\n    <tr>\n      <th>29</th>\n      <td>0001193125-10-024406</td>\n      <td>Property, plant and equipment, net</td>\n      <td>8.784000e+09</td>\n      <td>PropertyPlantAndEquipmentNet</td>\n      <td>us-gaap/2009</td>\n      <td>20091231</td>\n      <td>0</td>\n      <td>USD</td>\n      <td>0x00000000</td>\n      <td>0</td>\n      <td>12</td>\n      <td>-1</td>\n    </tr>\n    <tr>\n      <th>19</th>\n      <td>0001193125-10-024406</td>\n      <td>Goodwill</td>\n      <td>4.319000e+09</td>\n      <td>Goodwill</td>\n      <td>us-gaap/2009</td>\n      <td>20091231</td>\n      <td>0</td>\n      <td>USD</td>\n      <td>0x00000000</td>\n      <td>0</td>\n      <td>13</td>\n      <td>-1</td>\n    </tr>\n    <tr>\n      <th>20</th>\n      <td>0001193125-10-024406</td>\n      <td>Other acquired intangibles, net</td>\n      <td>2.877000e+09</td>\n      <td>IntangibleAssetsNetExcludingGoodwill</td>\n      <td>us-gaap/2009</td>\n      <td>20091231</td>\n      <td>0</td>\n      <td>USD</td>\n      <td>0x00000000</td>\n      <td>0</td>\n      <td>14</td>\n      <td>-1</td>\n    </tr>\n    <tr>\n      <th>16</th>\n      <td>0001193125-10-024406</td>\n      <td>Deferred income taxes</td>\n      <td>3.062000e+09</td>\n      <td>DeferredTaxAssetsNetNoncurrent</td>\n      <td>us-gaap/2009</td>\n      <td>20091231</td>\n      <td>0</td>\n      <td>USD</td>\n      <td>0x00000000</td>\n      <td>0</td>\n      <td>15</td>\n      <td>-1</td>\n    </tr>\n    <tr>\n      <th>24</th>\n      <td>0001193125-10-024406</td>\n      <td>Investments</td>\n      <td>1.030000e+09</td>\n      <td>LongTermInvestments</td>\n      <td>us-gaap/2009</td>\n      <td>20091231</td>\n      <td>0</td>\n      <td>USD</td>\n      <td>0x00000000</td>\n      <td>0</td>\n      <td>16</td>\n      <td>-1</td>\n    </tr>\n    <tr>\n      <th>18</th>\n      <td>0001193125-10-024406</td>\n      <td>Pension plan assets, net</td>\n      <td>1.600000e+07</td>\n      <td>DefinedBenefitPlanAssetsForPlanBenefitsNoncurrent</td>\n      <td>us-gaap/2009</td>\n      <td>20091231</td>\n      <td>0</td>\n      <td>USD</td>\n      <td>0x00000000</td>\n      <td>0</td>\n      <td>17</td>\n      <td>-1</td>\n    </tr>\n    <tr>\n      <th>26</th>\n      <td>0001193125-10-024406</td>\n      <td>Other assets, net of accumulated amortization of $492 and $400</td>\n      <td>1.224000e+09</td>\n      <td>OtherAssetsNoncurrent</td>\n      <td>us-gaap/2009</td>\n      <td>20091231</td>\n      <td>0</td>\n      <td>USD</td>\n      <td>0x00000000</td>\n      <td>0</td>\n      <td>18</td>\n      <td>-1</td>\n    </tr>\n    <tr>\n      <th>7</th>\n      <td>0001193125-10-024406</td>\n      <td>Total assets</td>\n      <td>6.205300e+10</td>\n      <td>Assets</td>\n      <td>us-gaap/2009</td>\n      <td>20091231</td>\n      <td>0</td>\n      <td>USD</td>\n      <td>0x00000000</td>\n      <td>0</td>\n      <td>19</td>\n      <td>-1</td>\n    </tr>\n    <tr>\n      <th>0</th>\n      <td>0001193125-10-024406</td>\n      <td>Accounts payable</td>\n      <td>7.096000e+09</td>\n      <td>AccountsPayableCurrent</td>\n      <td>us-gaap/2009</td>\n      <td>20091231</td>\n      <td>0</td>\n      <td>USD</td>\n      <td>0x00000000</td>\n      <td>0</td>\n      <td>21</td>\n      <td>-1</td>\n    </tr>\n    <tr>\n      <th>4</th>\n      <td>0001193125-10-024406</td>\n      <td>Other accrued liabilities</td>\n      <td>1.282200e+10</td>\n      <td>AccruedLiabilitiesCurrent</td>\n      <td>us-gaap/2009</td>\n      <td>20091231</td>\n      <td>0</td>\n      <td>USD</td>\n      <td>0x00000000</td>\n      <td>0</td>\n      <td>22</td>\n      <td>-1</td>\n    </tr>\n    <tr>\n      <th>42</th>\n      <td>0001193125-10-024406</td>\n      <td>Advances and billings in excess of related costs</td>\n      <td>1.207600e+10</td>\n      <td>CustomerAdvancesAndBillingsInExcessOfCost</td>\n      <td>0001193125-10-024406</td>\n      <td>20091231</td>\n      <td>0</td>\n      <td>USD</td>\n      <td>0x00000000</td>\n      <td>0</td>\n      <td>23</td>\n      <td>-1</td>\n    </tr>\n    <tr>\n      <th>2</th>\n      <td>0001193125-10-024406</td>\n      <td>Income taxes payable</td>\n      <td>1.820000e+08</td>\n      <td>AccruedIncomeTaxesCurrent</td>\n      <td>us-gaap/2009</td>\n      <td>20091231</td>\n      <td>0</td>\n      <td>USD</td>\n      <td>0x00000000</td>\n      <td>0</td>\n      <td>24</td>\n      <td>-1</td>\n    </tr>\n    <tr>\n      <th>14</th>\n      <td>0001193125-10-024406</td>\n      <td>Short-term debt and current portion of long-term debt</td>\n      <td>7.070000e+08</td>\n      <td>DebtCurrent</td>\n      <td>us-gaap/2009</td>\n      <td>20091231</td>\n      <td>0</td>\n      <td>USD</td>\n      <td>0x00000000</td>\n      <td>0</td>\n      <td>25</td>\n      <td>-1</td>\n    </tr>\n    <tr>\n      <th>22</th>\n      <td>0001193125-10-024406</td>\n      <td>Total current liabilities</td>\n      <td>3.288300e+10</td>\n      <td>LiabilitiesCurrent</td>\n      <td>us-gaap/2009</td>\n      <td>20091231</td>\n      <td>0</td>\n      <td>USD</td>\n      <td>0x00000000</td>\n      <td>0</td>\n      <td>26</td>\n      <td>-1</td>\n    </tr>\n    <tr>\n      <th>28</th>\n      <td>0001193125-10-024406</td>\n      <td>Accrued retiree health care</td>\n      <td>7.049000e+09</td>\n      <td>OtherPostretirementDefinedBenefitPlanLiabilitiesNoncurrent</td>\n      <td>us-gaap/2009</td>\n      <td>20091231</td>\n      <td>0</td>\n      <td>USD</td>\n      <td>0x00000000</td>\n      <td>0</td>\n      <td>27</td>\n      <td>-1</td>\n    </tr>\n    <tr>\n      <th>17</th>\n      <td>0001193125-10-024406</td>\n      <td>Accrued pension plan liability, net</td>\n      <td>6.315000e+09</td>\n      <td>DefinedBenefitPensionPlanLiabilitiesNoncurrent</td>\n      <td>us-gaap/2009</td>\n      <td>20091231</td>\n      <td>0</td>\n      <td>USD</td>\n      <td>0x00000000</td>\n      <td>0</td>\n      <td>28</td>\n      <td>-1</td>\n    </tr>\n    <tr>\n      <th>3</th>\n      <td>0001193125-10-024406</td>\n      <td>Non-current income taxes payable</td>\n      <td>8.270000e+08</td>\n      <td>AccruedIncomeTaxesNoncurrent</td>\n      <td>us-gaap/2009</td>\n      <td>20091231</td>\n      <td>0</td>\n      <td>USD</td>\n      <td>0x00000000</td>\n      <td>0</td>\n      <td>29</td>\n      <td>-1</td>\n    </tr>\n    <tr>\n      <th>27</th>\n      <td>0001193125-10-024406</td>\n      <td>Other long-term liabilities</td>\n      <td>5.370000e+08</td>\n      <td>OtherLiabilitiesNoncurrent</td>\n      <td>us-gaap/2009</td>\n      <td>20091231</td>\n      <td>0</td>\n      <td>USD</td>\n      <td>0x00000000</td>\n      <td>0</td>\n      <td>30</td>\n      <td>-1</td>\n    </tr>\n    <tr>\n      <th>23</th>\n      <td>0001193125-10-024406</td>\n      <td>Long-term debt</td>\n      <td>1.221700e+10</td>\n      <td>LongTermDebtAndCapitalLeaseObligations</td>\n      <td>us-gaap/2009</td>\n      <td>20091231</td>\n      <td>0</td>\n      <td>USD</td>\n      <td>0x00000000</td>\n      <td>0</td>\n      <td>31</td>\n      <td>-1</td>\n    </tr>\n    <tr>\n      <th>13</th>\n      <td>0001193125-10-024406</td>\n      <td>Common shares issued, par value $5.00 - 1,012,261,159 shares</td>\n      <td>5.061000e+09</td>\n      <td>CommonStockValue</td>\n      <td>us-gaap/2009</td>\n      <td>20091231</td>\n      <td>0</td>\n      <td>USD</td>\n      <td>0x00000000</td>\n      <td>0</td>\n      <td>33</td>\n      <td>-1</td>\n    </tr>\n    <tr>\n      <th>6</th>\n      <td>0001193125-10-024406</td>\n      <td>Additional paid-in capital</td>\n      <td>3.724000e+09</td>\n      <td>AdditionalPaidInCapital</td>\n      <td>us-gaap/2009</td>\n      <td>20091231</td>\n      <td>0</td>\n      <td>USD</td>\n      <td>0x00000000</td>\n      <td>0</td>\n      <td>34</td>\n      <td>-1</td>\n    </tr>\n    <tr>\n      <th>41</th>\n      <td>0001193125-10-024406</td>\n      <td>Treasury shares, at cost</td>\n      <td>1.591100e+10</td>\n      <td>TreasuryStockValue</td>\n      <td>us-gaap/2009</td>\n      <td>20091231</td>\n      <td>0</td>\n      <td>USD</td>\n      <td>0x00000000</td>\n      <td>0</td>\n      <td>35</td>\n      <td>-1</td>\n    </tr>\n    <tr>\n      <th>30</th>\n      <td>0001193125-10-024406</td>\n      <td>Retained earnings</td>\n      <td>2.274600e+10</td>\n      <td>RetainedEarningsAccumulatedDeficit</td>\n      <td>us-gaap/2009</td>\n      <td>20091231</td>\n      <td>0</td>\n      <td>USD</td>\n      <td>0x00000000</td>\n      <td>0</td>\n      <td>36</td>\n      <td>-1</td>\n    </tr>\n    <tr>\n      <th>5</th>\n      <td>0001193125-10-024406</td>\n      <td>Accumulated other comprehensive loss</td>\n      <td>-1.187700e+10</td>\n      <td>AccumulatedOtherComprehensiveIncomeLossNetOfTax</td>\n      <td>us-gaap/2009</td>\n      <td>20091231</td>\n      <td>0</td>\n      <td>USD</td>\n      <td>0x00000000</td>\n      <td>0</td>\n      <td>37</td>\n      <td>-1</td>\n    </tr>\n    <tr>\n      <th>10</th>\n      <td>0001193125-10-024406</td>\n      <td>ShareValue Trust shares</td>\n      <td>1.615000e+09</td>\n      <td>CommonStockIssuedEmployeeTrustDeferred</td>\n      <td>us-gaap/2009</td>\n      <td>20091231</td>\n      <td>0</td>\n      <td>USD</td>\n      <td>0x00000000</td>\n      <td>0</td>\n      <td>38</td>\n      <td>-1</td>\n    </tr>\n    <tr>\n      <th>32</th>\n      <td>0001193125-10-024406</td>\n      <td>Total Boeing shareholders' equity</td>\n      <td>2.128000e+09</td>\n      <td>StockholdersEquity</td>\n      <td>us-gaap/2009</td>\n      <td>20091231</td>\n      <td>0</td>\n      <td>USD</td>\n      <td>0x00000000</td>\n      <td>0</td>\n      <td>39</td>\n      <td>-1</td>\n    </tr>\n    <tr>\n      <th>25</th>\n      <td>0001193125-10-024406</td>\n      <td>Noncontrolling interest</td>\n      <td>9.700000e+07</td>\n      <td>MinorityInterest</td>\n      <td>us-gaap/2009</td>\n      <td>20091231</td>\n      <td>0</td>\n      <td>USD</td>\n      <td>0x00000000</td>\n      <td>0</td>\n      <td>40</td>\n      <td>-1</td>\n    </tr>\n    <tr>\n      <th>33</th>\n      <td>0001193125-10-024406</td>\n      <td>Total shareholders' equity</td>\n      <td>2.225000e+09</td>\n      <td>StockholdersEquityIncludingPortionAttributableToNoncontrollingInterest</td>\n      <td>us-gaap/2009</td>\n      <td>20091231</td>\n      <td>0</td>\n      <td>USD</td>\n      <td>0x00000000</td>\n      <td>0</td>\n      <td>41</td>\n      <td>-1</td>\n    </tr>\n    <tr>\n      <th>21</th>\n      <td>0001193125-10-024406</td>\n      <td>Total liabilities and shareholders' equity</td>\n      <td>6.205300e+10</td>\n      <td>LiabilitiesAndStockholdersEquity</td>\n      <td>us-gaap/2009</td>\n      <td>20091231</td>\n      <td>0</td>\n      <td>USD</td>\n      <td>0x00000000</td>\n      <td>0</td>\n      <td>42</td>\n      <td>-1</td>\n    </tr>\n  </tbody>\n</table>\n</div>"
     },
     "metadata": {},
     "execution_count": 21
    }
   ],
   "source": [
    "%%time\n",
    "tt.extract_statement('0001193125-10-024406')"
   ]
  },
  {
   "cell_type": "code",
   "execution_count": 82,
   "metadata": {},
   "outputs": [],
   "source": [
    "# final class for company filings\n",
    "class CompanyFilings:\n",
    "    # , num: pd.DataFrame(), pre: pd.DataFrame(), dim: pd.DataFrame(), sub: pd.DataFrame(), tag: pd.DataFrame()\n",
    "    def __init__(self, ticker=' ', cik=-1):\n",
    "        self.ticker = ticker.lower()\n",
    "        self.cik = cik\n",
    "        self._valid_statements = ['BS','CF','IS']\n",
    "        self._valid_forms = ['10-K', '10-Q']\n",
    "        if self.cik == -1:\n",
    "            self.collect_filings(cik=False)\n",
    "        else:\n",
    "            self.collect_filings(cik=True)\n",
    "    \n",
    "    # TODO - Date Ranges\n",
    "    # - add 10-Q functionality\n",
    "    # - add NLP functionality\n",
    "    # - add 8-K functionality -- not yet supported by xbrl \n",
    "    def extract_statement(self, adsh: str, statement='BS') -> pd.DataFrame():\n",
    "        form_type = self.sub[self.sub['adsh'] == adsh]['form'].iloc[0]\n",
    "        date_filed = self.sub[self.sub['adsh'] == adsh]['filed'].iloc[0]\n",
    "        dim  = self.collect_dim(str(date_filed))\n",
    "        data_tags = self.collect_tag(adsh)\n",
    "        \n",
    "        cnum = self.collect_num(adsh)\n",
    "        cpre = self.collect_pre(adsh, stmt=statement)\n",
    "\n",
    "        if statement == 'IS':\n",
    "            # income statement is period-dependant\n",
    "            qtr = 4 # base is 4 quarters (annual report)\n",
    "            if form_type == '10-Q':\n",
    "                qtr = 1\n",
    "            common_tags = pd.merge(cnum[cnum['qtrs'] == qtr], cpre[['tag','plabel', 'line']], on='tag')\n",
    "        else:\n",
    "            common_tags = pd.merge(cnum, cpre[['tag','plabel', 'line']], on='tag')\n",
    "            \n",
    "        # if common_tags.empty:\n",
    "        #     print('No Common Tags, invalid statement')\n",
    "        #     raise FileNotFoundError\n",
    "        \n",
    "        promoted_dims = self._promote_dimh(cnum, cpre, dim)\n",
    "        extract_promoted = self._extract_promoted(common_tags, promoted_dims, data_tags)\n",
    "        return extract_promoted\n",
    "\n",
    "    def collect_num(self, adsh: str) -> pd.DataFrame():\n",
    "        date_filed = self.sub[self.sub['adsh'] == adsh]['filed'].iloc[0]\n",
    "        period = self.sub[self.sub['adsh'] == adsh]['period'].iloc[0]\n",
    "        fdir = self._get_directory(str(date_filed))\n",
    "        \n",
    "        num = dd.read_csv(f'F:\\LPS\\SEC_DB\\{fdir}\\\\num.tsv', sep='\\t', sample=2500000)\n",
    "        cnum = num[(num.adsh == adsh) & (num.ddate == period)].compute()\n",
    "        cnum.drop_duplicates(subset=['tag','dimh','value'],inplace=True)\n",
    "        return cnum\n",
    "\n",
    "    def collect_pre(self, adsh: str, stmt='BS') -> pd.DataFrame():\n",
    "        date_filed = self.sub[self.sub['adsh'] == adsh]['filed'].iloc[0]\n",
    "        fdir = self._get_directory(str(date_filed))\n",
    "        pre = dd.read_csv(f'F:\\LPS\\SEC_DB\\{fdir}\\\\pre.tsv', sep='\\t', sample=2500000)\n",
    "        \n",
    "        cpre = pre[(pre.adsh == adsh) & (pre.stmt == stmt)].compute()\n",
    "        cpre.sort_values(by='line', inplace=True)\n",
    "        return cpre\n",
    "\n",
    "    def collect_tag(self, adsh: str) -> pd.DataFrame():\n",
    "        date_filed = self.sub[self.sub['adsh'] == adsh]['filed'].iloc[0]\n",
    "        fdir = self._get_directory(str(date_filed))\n",
    "        tag = pd.read_csv(f'F:\\LPS\\SEC_DB\\{fdir}\\\\tag.tsv', sep='\\t')\n",
    "        return tag\n",
    "\n",
    "    def collect_dim(self, date_filed: int) -> pd.DataFrame():\n",
    "        fdir = self._get_directory(date_filed)\n",
    "        dim = dd.read_csv(f'F:\\LPS\\SEC_DB\\{fdir}\\\\dim.tsv', sep='\\t', sample=2500000)\n",
    "        dim = dim.compute()\n",
    "        return dim\n",
    "    \n",
    "    def collect_filings(self, cik=False) -> pd.DataFrame():\n",
    "        load = dd.read_csv('F:\\LPS\\SEC_DB\\*\\sub.tsv', blocksize=16 * 1024 * 1024, sep='\\t', sample=2500000)\n",
    "        if cik == True:\n",
    "            self.sub = load[load.cik == self.cik].compute(scheduler='processes', num_workers=4)\n",
    "        elif cik == False:\n",
    "            self.sub = load[load.instance.str.contains(f'^{self.ticker}-')].compute(scheduler='processes', num_workers=4)\n",
    "        return self.sub \n",
    "\n",
    "    # -----------------------------------------------\n",
    "\n",
    "    def _get_quarter(self, month:str) -> str:\n",
    "        if month[0] == '0':\n",
    "            month = month[1]\n",
    "        month = int(month)\n",
    "        if month < 4:\n",
    "            return 'Q1'\n",
    "        elif month < 7:\n",
    "            return 'Q2'\n",
    "        elif month < 10:\n",
    "            return 'Q3'\n",
    "        elif month <= 12:\n",
    "            return 'Q4'\n",
    "\n",
    "    def _get_directory(self, date: str) -> str:\n",
    "        #20091231\n",
    "        #YYYY MM DD\n",
    "        regstr =  date[:4] +'-'+ self._get_quarter(date[4:6])\n",
    "        return regstr\n",
    "\n",
    "    # filtering and extracting data from the datasets\n",
    "    # selects [terms with brackets] from the dataframe, and adds them to a list\n",
    "    def _dimensionals(self, pre: pd.DataFrame()) -> list: \n",
    "        dimensional = pre[pre['plabel'].str.contains(r'\\[', na=False)]['plabel']\n",
    "        labels = []\n",
    "        for i in range(1, dimensional.shape[0]):\n",
    "            current = dimensional.iloc[i]\n",
    "            row_buffer = ''\n",
    "            for letter in current:\n",
    "                if letter == ' ':\n",
    "                    continue\n",
    "                elif letter == '[':\n",
    "                    break\n",
    "                else:\n",
    "                    row_buffer += letter\n",
    "            if row_buffer not in labels:\n",
    "                labels.append(row_buffer)\n",
    "            else:\n",
    "                continue\n",
    "        return labels\n",
    "\n",
    "    # splits dimension arguments into a parseable list\n",
    "    def _dim_splitter(self, dimslice: pd.DataFrame()) -> list:\n",
    "        segs = dimslice.split(';')[:-1]\n",
    "        key_values = [x.split('=') for x in segs]\n",
    "        return key_values\n",
    "\n",
    "    # creates ranking based on how many 'hits' each value's dimhash value had (compared to the _dimensionals found)\n",
    "    def _promote_dimh(self, num: pd.DataFrame(), pre: pd.DataFrame(), dim: pd.DataFrame()) -> dict:\n",
    "        hashes = dim[dim['dimhash'].isin(num['dimh'])]\n",
    "        plabels = self._dimensionals(pre)\n",
    "\n",
    "        hash_rank = {}\n",
    "        hash_rank.update({'0x00000000' : -1})\n",
    "        for i in range(hashes.shape[0]):\n",
    "            ranking = 0\n",
    "            if hashes['dimhash'].iloc[i] == '0x00000000':\n",
    "                continue\n",
    "\n",
    "            segmented = self._dim_splitter(hashes['segments'].iloc[i])\n",
    "            for kv in segmented:\n",
    "                for val in kv:\n",
    "                    if val in plabels:\n",
    "                        ranking += 1\n",
    "            hash_rank.update({hashes['dimhash'].iloc[i] : ranking})\n",
    "        return hash_rank\n",
    "\n",
    "    # Archived, may be useful someday?\n",
    "    # # ensures '-' for Credit and '+' for Debit accounts: makes calculations easier.\n",
    "    # def _verify_crdr(self, num: pd.DataFrame(), data_tags: pd.DataFrame()) -> pd.DataFrame():\n",
    "    #     verifier = pd.merge(num, data_tags[['tag', 'version', 'crdr']], on=['tag', 'version'])\n",
    "    #     verifier.drop_duplicates(subset='tag')\n",
    "    #     for i in range(verifier.shape[0]):\n",
    "    #         cval = verifier['value'].iloc[i]\n",
    "    #         c_d = -1 if verifier['crdr'].iloc[i] == 'C' else 1\n",
    "            \n",
    "    #         if c_d * cval >= 0:\n",
    "    #             continue\n",
    "    #         elif c_d * cval < 0:\n",
    "    #             verifier['value'].iloc[i] = cval * -1\n",
    "    #     return verifier\n",
    "\n",
    "    # the actual ranking engine, selects the most relevant values based on their dimhash ranking and iprx value\n",
    "    def _extract_promoted(self, common_tags: pd.DataFrame(), promoted_dims: dict, data_tags: pd.DataFrame()) -> pd.DataFrame():\n",
    "        df_list = []\n",
    "        uniq = list(common_tags['tag'].unique())\n",
    "        \n",
    "        i = 0\n",
    "        for tag in uniq:\n",
    "            matches = common_tags[common_tags['tag'] == tag]\n",
    "            matches['rank'] = [promoted_dims[ky] for ky in matches['dimh']]\n",
    "            \n",
    "            rmax = matches['rank'].max()\n",
    "            rmin = matches['rank'].min()\n",
    "            imin = matches['iprx'].min()\n",
    "\n",
    "            if rmax > 0:\n",
    "                up_match = matches[matches['rank'] == rmax]\n",
    "                if up_match.shape[0] > 1:\n",
    "                    up_match = up_match[up_match['iprx'] == imin]\n",
    "            else:\n",
    "                up_match = matches[matches['rank'] == rmin]\n",
    "                if up_match.shape[0] > 1:\n",
    "                    up_match = up_match[up_match['iprx'] == imin]\n",
    "            df_list.append(up_match)\n",
    "            i += 1\n",
    "\n",
    "        # econt = pd.concat(df_list)\n",
    "        ep = pd.concat(df_list)\n",
    "        # ep = self._verify_crdr(econt, data_tags)\n",
    "        ep.insert(1, 'plabel', ep.pop('plabel'))\n",
    "        ep.insert(2, 'value', ep.pop('value'))\n",
    "        ep.drop(['footnote', 'dimn', 'coreg', 'durp', 'datp', 'dcml', 'footlen'], axis=1, inplace=True)\n",
    "        ep.sort_values(by='line', inplace=True)\n",
    "        ep.dropna(how='all', inplace=True)\n",
    "        ep.fillna(0)\n",
    "        return ep"
   ]
  },
  {
   "cell_type": "code",
   "execution_count": null,
   "metadata": {},
   "outputs": [],
   "source": [
    "def collect_filings(self) -> pd.DataFrame():\n",
    "    load = dd.read_csv('F:\\LPS\\SEC_DB\\*\\sub.tsv', sep='\\t', sample=2500000)\n",
    "    self.sub = load[load.instance.str.contains(f'^{self.ticker}-')].compute()\n",
    "    return self.sub "
   ]
  },
  {
   "cell_type": "code",
   "execution_count": null,
   "metadata": {},
   "outputs": [],
   "source": [
    "import ProperDict as PropD\n",
    "prep = PropD.PRE\n",
    "pred = {key:value[len(value)-1] for (key,value) in prep.items()}"
   ]
  },
  {
   "cell_type": "code",
   "execution_count": null,
   "metadata": {},
   "outputs": [],
   "source": [
    "%%time\n",
    "import dask.dataframe as dd\n",
    "df = dd.read_csv('F:\\LPS\\SEC_DB\\*\\sub.tsv', sep='\\t', sample=2500000)\n",
    "df[df.instance.str.contains(r'^ba-')].compute()"
   ]
  },
  {
   "cell_type": "code",
   "execution_count": null,
   "metadata": {},
   "outputs": [],
   "source": [
    "dfnum = dd.read_csv('F:\\LPS\\SEC_DB\\*\\\\num.tsv', sep='\\t', sample=2500000)\n",
    "dfnum[dfnum.adsh == '0001193125-09-152905'].compute()"
   ]
  },
  {
   "cell_type": "code",
   "execution_count": null,
   "metadata": {},
   "outputs": [],
   "source": [
    "soup.find_all('a')"
   ]
  },
  {
   "cell_type": "code",
   "execution_count": null,
   "metadata": {},
   "outputs": [],
   "source": [
    "import requests\n",
    "from bs4 import BeautifulSoup\n",
    "import re\n",
    "import zipfile, io"
   ]
  },
  {
   "cell_type": "code",
   "execution_count": null,
   "metadata": {
    "tags": []
   },
   "outputs": [],
   "source": [
    "# script to collect all download links\n",
    "URL = 'https://www.sec.gov/dera/data/financial-statement-and-notes-data-set.html'\n",
    "r = requests.get(URL)\n",
    "\n",
    "soup = BeautifulSoup(r.content, 'html5lib')\n",
    "\n",
    "downloads = soup.find_all(href=re.compile('financial-statement-and-notes-data-sets'))\n",
    "dlink = [\"https://www.sec.gov/\" + downloads[i]['href'] for i in range(len(downloads))] "
   ]
  },
  {
   "cell_type": "code",
   "execution_count": null,
   "metadata": {},
   "outputs": [],
   "source": [
    "# downloads and extracts entire database from SEC website\n",
    "def download_entire_database(dlinks: list, downloads):\n",
    "    i = 0\n",
    "    for link in downloads:\n",
    "        fname = link.string.replace(\" \", \"-\")\n",
    "        os.mkdir(r\"F:\\LPS\\SEC_DB\" + \"\\\\\" + fname)\n",
    "        \n",
    "        print(f\"Now Downloading: {fname}... \")\n",
    "        r = requests.get(dlinks[i], stream=True)\n",
    "        \n",
    "        zipper = zipfile.ZipFile(io.BytesIO(r.content))\n",
    "        print(f\"Extracting {fname}...\")\n",
    "        zipper.extractall(r\"F:\\LPS\\SEC_DB\" + \"\\\\\" + fname)\n",
    "        \n",
    "        print(f\"Downloaded and Extracted {fname}.\\n\")\n",
    "        i += 1"
   ]
  },
  {
   "cell_type": "code",
   "execution_count": null,
   "metadata": {},
   "outputs": [],
   "source": [
    "download_entire_database(dlinks, downloads)"
   ]
  },
  {
   "cell_type": "code",
   "execution_count": null,
   "metadata": {},
   "outputs": [],
   "source": [
    "import mysql.connector\n",
    "from mysql.connector import Error"
   ]
  },
  {
   "cell_type": "code",
   "execution_count": null,
   "metadata": {},
   "outputs": [],
   "source": [
    "def create_db_connection(host_name, user_name, user_password):\n",
    "    connection = None\n",
    "    try: \n",
    "        connection = mysql.connector.connect(\n",
    "            host=host_name,\n",
    "            user=user_name,\n",
    "            passwd=user_password,\n",
    "            auth_plugin='mysql_native_password'\n",
    "        )\n",
    "        print(\"MySQL Database connection successful.\")\n",
    "    except Error as err:\n",
    "        print(f'Error: {err}')\n",
    "    return connection"
   ]
  },
  {
   "cell_type": "code",
   "execution_count": null,
   "metadata": {},
   "outputs": [],
   "source": [
    "connection = create_db_connection('localhost', 'root', 'IupA;ka3&js')"
   ]
  },
  {
   "cell_type": "code",
   "execution_count": null,
   "metadata": {},
   "outputs": [],
   "source": [
    "def create_database(connection, query):\n",
    "    cursor = connection.cursor()\n",
    "    try:\n",
    "        cursor.execute(query)\n",
    "        print(\"Database created successfully\")\n",
    "    except Error as err:\n",
    "        print(f'Error: {err}')"
   ]
  },
  {
   "cell_type": "code",
   "execution_count": null,
   "metadata": {},
   "outputs": [],
   "source": [
    "db_query = \"CREATE DATABASE sec_db\"\n",
    "create_database(connection, db_query)"
   ]
  },
  {
   "source": [
    "# ARCHIVED FUNCTIONS\n",
    "Who knows, maybe they'll be useful again someday..."
   ],
   "cell_type": "markdown",
   "metadata": {}
  },
  {
   "cell_type": "code",
   "execution_count": null,
   "metadata": {
    "tags": []
   },
   "outputs": [],
   "source": [
    "# ARCHIVED\n",
    "# helper function\n",
    "# turns all tags found in dim.tsv into a pandas dataset, w/ correlated dimhash \n",
    "def searchable_dimensions(dim: pd.DataFrame()) -> pd.DataFrame():\n",
    "    all_tags = []\n",
    "    c=0 \n",
    "    for i in range(dim.shape[0]):\n",
    "        if type(dim['segments'].iloc[i]) == float:\n",
    "            continue\n",
    "        \n",
    "        current = dim['segments'].iloc[i]\n",
    "        start = 0\n",
    "        stop = 0 \n",
    "        for letter in current:\n",
    "            if letter == ';' or letter == '=':\n",
    "                all_tags.append([current[start:stop], dim['dimhash'].iloc[i]])\n",
    "                start = stop+1\n",
    "                c += 1\n",
    "            stop+=1\n",
    "\n",
    "        if i % 1000 == 0:\n",
    "            print(i, end=' ')\n",
    "\n",
    "    all_possible_tags = pd.DataFrame(all_tags, columns=['tag', 'dimhash'])\n",
    "    all_possible_tags.dropna(how='any', inplace=True)\n",
    "    all_possible_tags.drop_duplicates(inplace=True)\n",
    "    return all_possible_tags"
   ]
  },
  {
   "cell_type": "code",
   "execution_count": null,
   "metadata": {},
   "outputs": [],
   "source": [
    "# ARCHIVED dimensionals\n",
    "dimensional = pre[pre['plabel'].str.contains(r'\\[', na=False)]['plabel']\n",
    "    labels = []\n",
    "    for i in range(1, dimensional.shape[0]):\n",
    "        current = dimensional.iloc[i]\n",
    "        row_buffer = ''\n",
    "        start = 0\n",
    "        c = 0 \n",
    "        for letter in current:\n",
    "            if letter == ']' or letter == '}':\n",
    "                break\n",
    "            elif letter == '[' or letter == ':':\n",
    "                start = c+1\n",
    "            c += 1\n",
    "        labels.append(current[start:c])"
   ]
  },
  {
   "cell_type": "code",
   "execution_count": null,
   "metadata": {
    "tags": []
   },
   "outputs": [],
   "source": [
    "# ARCHIVED\n",
    "# all tags with common ranking\n",
    "for tag in uniq:\n",
    "    matches = common_tags[common_tags['tag'] == tag]\n",
    "    matches['rank'] = [promoted_dims[ky] for ky in matches['dimh']]\n",
    "    lmax = matches['rank'].max()\n",
    "    lmin = matches['rank'].min()\n",
    "    if matches.shape[0] > 1:\n",
    "        if lmax == lmin:\n",
    "            display(matches)"
   ]
  },
  {
   "cell_type": "code",
   "execution_count": null,
   "metadata": {},
   "outputs": [],
   "source": [
    "# ARCHIVED\n",
    "# income statement is over set period of time, check qtrs \n",
    "isnum = collect_num('0000012927-21-000011', 20201231, num)\n",
    "ispre = collect_pre('0000012927-21-000011', 20201231, pre, stmt='IS')\n",
    "\n",
    "promoted_dims = promote_dimh(isnum, ispre, dim)\n",
    "ct = pd.merge(isnum[isnum['qtrs'] == 4], ispre[['tag','plabel', 'line']], on='tag')\n",
    "i_s = extract_promoted(ct, promoted_dims, data_tags) \n",
    "i_s"
   ]
  }
 ]
}